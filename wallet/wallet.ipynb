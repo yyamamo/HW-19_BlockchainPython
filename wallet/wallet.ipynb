{
 "cells": [
  {
   "cell_type": "code",
   "execution_count": 55,
   "id": "5861b9cd",
   "metadata": {},
   "outputs": [],
   "source": [
    "#pip install python-dotenv"
   ]
  },
  {
   "cell_type": "code",
   "execution_count": 56,
   "id": "a8d2d82b",
   "metadata": {
    "tags": []
   },
   "outputs": [],
   "source": [
    "#pip install web3"
   ]
  },
  {
   "cell_type": "code",
   "execution_count": 57,
   "id": "5cac525d",
   "metadata": {
    "tags": []
   },
   "outputs": [],
   "source": [
    "# pip install bit"
   ]
  },
  {
   "cell_type": "code",
   "execution_count": 58,
   "id": "bd20568c",
   "metadata": {
    "tags": []
   },
   "outputs": [],
   "source": [
    "# Import dependencies\n",
    "import subprocess\n",
    "import json\n",
    "from dotenv import load_dotenv\n",
    "import os\n",
    "\n",
    "# Load and set environment variables\n",
    "load_dotenv()\n",
    "mnemonic=os.getenv('mnemonic')\n",
    "ETH_KEY=os.getenv('eth_key')\n",
    "BTCTEST_KEY=os.getenv('btc_key')"
   ]
  },
  {
   "cell_type": "code",
   "execution_count": 59,
   "id": "0e81ce17",
   "metadata": {},
   "outputs": [
    {
     "name": "stdout",
     "output_type": "stream",
     "text": [
      "door cube sibling salon awful radar relax hidden vital fashion cluster useless\n",
      "0x30b2589320c436d117f87fc146847485a43eea34e4b42939d8fa5e79cbd67621\n",
      "cV5Yj759GhD4fJzn9Qxu9eLhPiHLf8CvTGTjSWWWPEcHnqtMzkYr\n"
     ]
    }
   ],
   "source": [
    "# to check the env file setting \n",
    "print(f'{mnemonic}')\n",
    "print(f'{ETH_KEY}')\n",
    "print(f'{BTCTEST_KEY}')"
   ]
  },
  {
   "cell_type": "code",
   "execution_count": 74,
   "id": "8abaf34f",
   "metadata": {},
   "outputs": [],
   "source": [
    "# Import constants.py and necessary functions from bit and web3\n",
    "from web3 import Web3\n",
    "from constants import *\n",
    "from bit import Key, PrivateKey, PrivateKeyTestnet, wif_to_key\n",
    "from bit.network import NetworkAPI # satoshi_to_currency\n",
    "from web3.middleware import geth_poa_middleware\n",
    "from eth_account import Account\n",
    "from pathlib import Path\n",
    "from getpass import getpass\n",
    "w3 = Web3(Web3.HTTPProvider(\"http://127.0.0.1:8545\"))\n",
    "w3.middleware_onion.inject(geth_poa_middleware, layer=0)\n",
    "key = Key()\n",
    "\n"
   ]
  },
  {
   "cell_type": "code",
   "execution_count": 76,
   "id": "0833ac4c",
   "metadata": {},
   "outputs": [],
   "source": [
    "# Create a function called `derive_wallets`\n",
    "def derive_wallets(coin):\n",
    "    command = f'php derive -g --mnemonic=\"{mnemonic}\" --numderive=3 --cols=path,address,privkey,pubkey --coin=\"{coin}\" --format=json'\n",
    "    p = subprocess.Popen(command, stdout=subprocess.PIPE, shell=True)\n",
    "    output, err = p.communicate()\n",
    "    p_status = p.wait()\n",
    "    return json.loads(output)"
   ]
  },
  {
   "cell_type": "code",
   "execution_count": 77,
   "id": "26c01224",
   "metadata": {},
   "outputs": [
    {
     "name": "stdout",
     "output_type": "stream",
     "text": [
      "{'ETH': [{'path': \"m/44'/60'/0'/0/0\", 'address': '0x7205E0E71E88F429DaCA2E88b873D216892826B2', 'privkey': '0x30b2589320c436d117f87fc146847485a43eea34e4b42939d8fa5e79cbd67621', 'pubkey': '030ecbcb94b2992245a78a56a92e4d1d53bf8351554093c061ee6d4cd5b1ec3ceb'}, {'path': \"m/44'/60'/0'/0/1\", 'address': '0xcb50F425cC4F49a4A691592D849b622D86632cbA', 'privkey': '0x08f347145ff5415a42e015e0222a3e08d0827a65ad2323e0e5ed49f71b5e667e', 'pubkey': '035fdc01901711473b6119a0e793b3bd8596b151b9f39a8b4a885e9ce073320ce0'}, {'path': \"m/44'/60'/0'/0/2\", 'address': '0xbD0e2c94801D35741a9D95A2f61CfF6eE3404d08', 'privkey': '0xede9253349551b0283679b4a406f74453e5ee07b72d39387e89a6ee0155ded61', 'pubkey': '03ad77559f702c0e85cf60a8648ae5ed66e448356c74a9913f343a1e81451bb1a8'}], 'BTCTEST': [{'path': \"m/44'/1'/0'/0/0\", 'address': 'myV6Ckb4YvJUwCku1FHcBzZda33FuHcTmn', 'privkey': 'cV5Yj759GhD4fJzn9Qxu9eLhPiHLf8CvTGTjSWWWPEcHnqtMzkYr', 'pubkey': '03f359682387ffdc8882415f6316c7afd5ce5ad46733f84ace2fd47f8546b7f6b8'}, {'path': \"m/44'/1'/0'/0/1\", 'address': 'msaEgpM2LbMhcFig7KSJVJW8y3zoU2FYS3', 'privkey': 'cU3ZhriireFmvFSE1QiHifFtA3jgzzB9wkYguwq75T4PGd6BNMFM', 'pubkey': '034a06f19fb65628b955a57c35569bf267635a242a5b9880c081030529334dce8f'}, {'path': \"m/44'/1'/0'/0/2\", 'address': 'mqAPvNrcqznusd6KviqYxwp9CS7EDAnx1d', 'privkey': 'cRCXk9YhSbcRk24NnP4hzTaT4hQgTyWtjGqvJnFiiyc31Mp3gwYB', 'pubkey': '02d489f18ff7bd03f0581ea96e643b78c31210dc292a23a5021f01072295c307ef'}]}\n"
     ]
    }
   ],
   "source": [
    "# Create a dictionary object called coins to store the output from `derive_wallets`.\n",
    "coins = {\"ETH\": derive_wallets(ETH),\n",
    "         \"BTCTEST\": derive_wallets(BTCTEST)\n",
    "        }\n",
    "print(coins)"
   ]
  },
  {
   "cell_type": "code",
   "execution_count": 78,
   "id": "3d68aaa7",
   "metadata": {},
   "outputs": [
    {
     "data": {
      "text/plain": [
       "'0x30b2589320c436d117f87fc146847485a43eea34e4b42939d8fa5e79cbd67621'"
      ]
     },
     "execution_count": 78,
     "metadata": {},
     "output_type": "execute_result"
    }
   ],
   "source": [
    "coins['ETH'][0]['privkey']"
   ]
  },
  {
   "cell_type": "code",
   "execution_count": 79,
   "id": "dda1e97b",
   "metadata": {},
   "outputs": [
    {
     "data": {
      "text/plain": [
       "'cV5Yj759GhD4fJzn9Qxu9eLhPiHLf8CvTGTjSWWWPEcHnqtMzkYr'"
      ]
     },
     "execution_count": 79,
     "metadata": {},
     "output_type": "execute_result"
    }
   ],
   "source": [
    "coins['BTCTEST'][0]['privkey']"
   ]
  },
  {
   "cell_type": "code",
   "execution_count": 90,
   "id": "59dc1ae5",
   "metadata": {},
   "outputs": [],
   "source": [
    "# Create a function called `priv_key_to_account` that converts privkey strings to account objects.\n",
    "def priv_key_to_account(coin, privkey):\n",
    "    if coin == ETH:\n",
    "        return Account.privateKeyToAccount(privkey)\n",
    "    if coin == BTCTEST: \n",
    "        return PrivateKeyTestnet(privkey)"
   ]
  },
  {
   "cell_type": "code",
   "execution_count": 91,
   "id": "f599c042",
   "metadata": {},
   "outputs": [],
   "source": [
    "# Create a function called `create_tx` that creates an unsigned transaction appropriate metadata.\n",
    "def create_tx(coin, account, to, amount):\n",
    "    if coin == ETH:\n",
    "        value = w3.toWei(amount, \"ether\") \n",
    "        gasEstimate = w3.eth.estimateGas({\"from\": account.address, \"to\": to, \"amount\": value})\n",
    "        return {\"from\": account.address, \"to\": to, \"value\": value, \"gasPrice\": w3.eth.gasPrice, \"gas\": gasEstimate, \"nonce\": w3.eth.getTransactionCount(account.address)}\n",
    "    if coin == BTCTEST: \n",
    "        return PrivateKeyTestnet.prepare_transaction(account, [(to, amount, BTC)])\n"
   ]
  },
  {
   "cell_type": "code",
   "execution_count": 92,
   "id": "56544370",
   "metadata": {},
   "outputs": [],
   "source": [
    "# Create a function called `send_tx` that calls `create_tx`, signs and sends the transaction.\n",
    "def send_tx(coin, account, to, amount):\n",
    "    tx = create_tx(coin, account, to, amount)\n",
    "    if coin == ETH: \n",
    "        signed_tx = account.sign_transaction(tx)\n",
    "        result = w3.eth.sendRawTransaction(signed_tx.rawTransaction)\n",
    "        print(result.hex())\n",
    "        return result.hex()\n",
    "    \n",
    "    if coin == BTCTEST:\n",
    "        signed = key.sign_transaction(tx)\n",
    "        return NetworkAPI.broadcast_tx_testnet(signed)\n"
   ]
  },
  {
   "cell_type": "code",
   "execution_count": 93,
   "id": "1cedc23e",
   "metadata": {},
   "outputs": [],
   "source": [
    "# to comment out variables to avoid sending another transaction \n",
    "## coin = BTCTEST\n",
    "## amount = 0.00011\n",
    "## account = 'myV6Ckb4YvJUwCku1FHcBzZda33FuHcTmn'\n",
    "## to = 'tb1q5jp6a33el24fq8rdyx03tm7tced72c8c8lcj6q'"
   ]
  },
  {
   "cell_type": "code",
   "execution_count": 94,
   "id": "68c9ac9b",
   "metadata": {},
   "outputs": [],
   "source": [
    "# To commnent out the functions to run a transaction for BTCTEST net\n",
    "# priv_key_to_account(coin)\n",
    "# create_tx(coin, account, to, amount)\n",
    "# send_tx(coin, account, to, amount)"
   ]
  },
  {
   "cell_type": "code",
   "execution_count": 95,
   "id": "c9090451",
   "metadata": {},
   "outputs": [
    {
     "data": {
      "text/plain": [
       "'0'"
      ]
     },
     "execution_count": 95,
     "metadata": {},
     "output_type": "execute_result"
    }
   ],
   "source": [
    "# Check the current account balance\n",
    "key.get_balance()"
   ]
  },
  {
   "cell_type": "code",
   "execution_count": 96,
   "id": "6df10e4c",
   "metadata": {},
   "outputs": [],
   "source": [
    "# to execute the transaction on ETH network\n",
    "coin = ETH\n",
    "amount = 1\n",
    "# account = 0x9AD9E9d025b088342D0ac468B498498E0028fe9e\n",
    "account = key\n",
    "to = '0x77484e67Ae5606B86de8C8Ac732309F955F9A737'"
   ]
  },
  {
   "cell_type": "code",
   "execution_count": null,
   "id": "52d9958d",
   "metadata": {
    "tags": []
   },
   "outputs": [],
   "source": [
    "priv_key_to_account(coin, '0x30b2589320c436d117f87fc146847485a43eea34e4b42939d8fa5e79cbd67621')\n",
    "create_tx(coin, priv_key_to_account(coin, \"0x30b2589320c436d117f87fc146847485a43eea34e4b42939d8fa5e79cbd67621\"), to, amount)\n",
    "send_tx(coin, priv_key_to_account(coin, \"0x30b2589320c436d117f87fc146847485a43eea34e4b42939d8fa5e79cbd67621\"), to, amount)"
   ]
  },
  {
   "cell_type": "code",
   "execution_count": null,
   "id": "40f9625f-17fd-46aa-97d1-6900875b9db2",
   "metadata": {},
   "outputs": [],
   "source": []
  },
  {
   "cell_type": "code",
   "execution_count": null,
   "id": "2a242cad-06f2-40a1-b163-a64ed1b6f68f",
   "metadata": {},
   "outputs": [],
   "source": []
  }
 ],
 "metadata": {
  "kernelspec": {
   "display_name": "Python 3",
   "language": "python",
   "name": "python3"
  },
  "language_info": {
   "codemirror_mode": {
    "name": "ipython",
    "version": 3
   },
   "file_extension": ".py",
   "mimetype": "text/x-python",
   "name": "python",
   "nbconvert_exporter": "python",
   "pygments_lexer": "ipython3",
   "version": "3.7.10"
  }
 },
 "nbformat": 4,
 "nbformat_minor": 5
}
